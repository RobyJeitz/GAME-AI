{
 "cells": [
  {
   "cell_type": "code",
   "execution_count": 146,
   "metadata": {},
   "outputs": [],
   "source": [
    "import math\n",
    "from IPython.core.debugger import set_trace"
   ]
  },
  {
   "cell_type": "code",
   "execution_count": 271,
   "metadata": {},
   "outputs": [],
   "source": [
    "def DT_LEARNING(examples, labels, attributes, parent_examples, parent_labels):\n",
    "    if len(examples) == 0:\n",
    "        if PLURALITY_VAL(parent_labels) == 0:\n",
    "            return '-'\n",
    "        else:\n",
    "            return '+'\n",
    "    elif all(las == labels[0] for las in labels):\n",
    "        if labels[0] == 0:\n",
    "            return '-'\n",
    "        else:\n",
    "            return '+' #todo\n",
    "    elif len(attributes) == 0:\n",
    "        if PLURALITY_VAL(labels) == 0:\n",
    "            return '-'\n",
    "        else:\n",
    "            return '+'\n",
    "    else:\n",
    "        at = IMPORTANCE(attributes, examples, labels)\n",
    "        pvalues = prominent_value(at, examples)\n",
    "        x = ''\n",
    "        y = ''\n",
    "        if len(pvalues) > 1:\n",
    "            x = str(pvalues[0])\n",
    "            y = str(pvalues[1])\n",
    "        else:\n",
    "            x = str(pvalues[0])\n",
    "            \n",
    "        att = attributes[at]\n",
    "        if y == '':\n",
    "            tree = {'attribute': att,\n",
    "                    x: {}}\n",
    "        else:\n",
    "            tree = {'attribute': att,\n",
    "                    x: {},\n",
    "                    y: {}}\n",
    "        vk = [x, y]\n",
    "        for cv in vk:\n",
    "            if cv != '':\n",
    "                exs = []\n",
    "                ls = []\n",
    "                exm = examples.copy()\n",
    "                for exp in exm:\n",
    "                    if exp[at] == cv:\n",
    "                        #set_trace()\n",
    "                        ls.append(labels[examples.index(exp)])\n",
    "                        exp.pop(at)\n",
    "                        exs.append(exp)\n",
    "                atts = attributes.copy()\n",
    "                atts.pop(at)\n",
    "                #set_trace()\n",
    "                tree[cv] = DT_LEARNING(exs, ls, atts, examples, labels)\n",
    "    return tree"
   ]
  },
  {
   "cell_type": "code",
   "execution_count": 272,
   "metadata": {},
   "outputs": [],
   "source": [
    "def IMPORTANCE(attributes, examples, labels):\n",
    "    qv = labels.count(1) / len(labels)\n",
    "    if qv != 0:\n",
    "        results = []\n",
    "        def entropie (qv):\n",
    "            if qv != 0 and qv != 1:\n",
    "                return -(qv * math.log2(qv) + (1 - qv) * math.log2(1 - qv))\n",
    "            return 0\n",
    "        bv = entropie(qv)\n",
    "        for att in attributes:\n",
    "            pvalues = prominent_value(attributes.index(att), examples)\n",
    "            x = ''\n",
    "            y = ''\n",
    "            if len(pvalues) > 1:\n",
    "                x = str(pvalues[0])\n",
    "                y = str(pvalues[1])\n",
    "            else:\n",
    "                x = str(pvalues[0])\n",
    "            v = []\n",
    "            xc = 0\n",
    "            yc = 0\n",
    "            xv = 0\n",
    "            yv = 0\n",
    "            for e in examples:\n",
    "                if labels[examples.index(e)] == 1 and str(e[attributes.index(att)]) == str(x):\n",
    "                    xc += 1\n",
    "                    xv += 1\n",
    "                elif str(e[attributes.index(att)]) == str(x):\n",
    "                    xv += 1\n",
    "                elif labels[examples.index(e)] == 1 and str(e[attributes.index(att)]) == str(y) and str(y) != '':\n",
    "                    yc += 1\n",
    "                    yv += 1\n",
    "                elif str(e[attributes.index(att)]) == str(y) and str(y) != '':\n",
    "                    yv += 1\n",
    "                v.append(str(e[attributes.index(att)]))\n",
    "            if yv == 0:\n",
    "                yv = 1\n",
    "                \n",
    "            remainder = (v.count(x) / len(v)) * entropie(xc / xv) + (v.count(y) / len(v)) * entropie(yc / yv)\n",
    "            results.append(bv - remainder)\n",
    "            \n",
    "        atti = 0\n",
    "        atti = results.index(max(results))\n",
    "        #set_trace()\n",
    "        return atti\n",
    "    return 0"
   ]
  },
  {
   "cell_type": "code",
   "execution_count": 273,
   "metadata": {},
   "outputs": [],
   "source": [
    "def PLURALITY_VAL(labels):\n",
    "    x0 = labels.count(0)\n",
    "    x1 = labels.count(1)\n",
    "    if max(x0, x1) == x0:\n",
    "        return 0 \n",
    "    else:\n",
    "        return 1"
   ]
  },
  {
   "cell_type": "code",
   "execution_count": 274,
   "metadata": {},
   "outputs": [],
   "source": [
    "def prominent_value (attribute, examples):\n",
    "    v = []\n",
    "    for e in examples:\n",
    "        v.append(str(e[attribute]))\n",
    "        \n",
    "    def unique(list1): \n",
    "        # insert the list to the set \n",
    "        list_set = set(list1) \n",
    "        # convert the set to the list \n",
    "        unique_list = (list(list_set))\n",
    "        return unique_list\n",
    "    return unique(v)"
   ]
  },
  {
   "cell_type": "code",
   "execution_count": 275,
   "metadata": {},
   "outputs": [
    {
     "data": {
      "text/plain": [
       "{'attribute': 'sky',\n",
       " 'rainy': '-',\n",
       " 'sunny': {'attribute': 'wind', 'strong': '+', 'weak': '-'}}"
      ]
     },
     "execution_count": 275,
     "metadata": {},
     "output_type": "execute_result"
    }
   ],
   "source": [
    "examples = [['sunny', 'warm', 'normal', 'strong', 'warm', 'same'],\n",
    "            ['sunny', 'warm', 'high', 'strong', 'warm', 'same'],\n",
    "            ['rainy', 'cold', 'high', 'strong', 'warm', 'change'],\n",
    "            ['sunny', 'warm', 'high', 'strong', 'cool', 'change'],\n",
    "            ['sunny', 'warm', 'normal', 'weak', 'warm', 'same']]\n",
    "labels = [1, 1, 0, 1, 0]\n",
    "attributes = ['sky', 'air', 'humid', 'wind', 'water', 'forecast']\n",
    "\n",
    "DT_LEARNING(examples, labels, attributes, examples, labels)"
   ]
  },
  {
   "cell_type": "code",
   "execution_count": null,
   "metadata": {},
   "outputs": [],
   "source": []
  }
 ],
 "metadata": {
  "kernelspec": {
   "display_name": "Python 3",
   "language": "python",
   "name": "python3"
  },
  "language_info": {
   "codemirror_mode": {
    "name": "ipython",
    "version": 3
   },
   "file_extension": ".py",
   "mimetype": "text/x-python",
   "name": "python",
   "nbconvert_exporter": "python",
   "pygments_lexer": "ipython3",
   "version": "3.7.3"
  }
 },
 "nbformat": 4,
 "nbformat_minor": 2
}
